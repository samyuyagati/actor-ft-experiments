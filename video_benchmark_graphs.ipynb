{
 "cells": [
  {
   "cell_type": "code",
   "execution_count": 16,
   "metadata": {},
   "outputs": [],
   "source": [
    "# Code borrowed from https://github.com/stephanie-wang/ownership-osdi20/blob/master/data/Video%20stabilization%20latency.ipynb\n",
    "\n",
    "import numpy as np\n",
    "import os\n",
    "\n",
    "def load(filename):\n",
    "    results = []\n",
    "    num_over_1000 = 0\n",
    "    max_frame = -1\n",
    "    with open(filename, 'r') as f:\n",
    "        for line in f.readlines():\n",
    "            line = line.strip()\n",
    "            try:\n",
    "                _, frame, latency = line.split(' ')\n",
    "            except:\n",
    "                print(filename, line)\n",
    "            frame = int(frame)\n",
    "            latency = float(latency)\n",
    "            results.append((frame, latency))\n",
    "            if frame > max_frame:\n",
    "                max_frame = frame\n",
    "    start = 0\n",
    "    end = max_frame\n",
    "#     start = max_frame // 4\n",
    "#     end = max_frame - start\n",
    "\n",
    "    results = [latency * 1000 for frame, latency in results if frame > start and frame < end]\n",
    "    print(filename)\n",
    "    print(\"\\tmean\", np.mean(results))\n",
    "    print(\"\\tp50:\", np.percentile(results, 50))\n",
    "    print(\"\\tp90:\", np.percentile(results, 90))\n",
    "    print(\"\\tp99:\", np.percentile(results, 99))\n",
    "    print(\"\\tp100:\", np.max(results))\n",
    "    return results"
   ]
  },
  {
   "cell_type": "code",
   "execution_count": 20,
   "metadata": {},
   "outputs": [
    {
     "name": "stdout",
     "output_type": "stream",
     "text": [
      "app_keep_frames-output.txt\n",
      "\tmean 16.613213860209864\n",
      "\tp50: 15.958786010742188\n",
      "\tp90: 25.008153915405273\n",
      "\tp99: 31.151790618896463\n",
      "\tp100: 39.99829292297363\n",
      "app_lose_frames-output.txt\n",
      "\tmean 16.93969316019285\n",
      "\tp50: 14.337301254272461\n",
      "\tp90: 27.039051055908196\n",
      "\tp99: 43.919210433959954\n",
      "\tp100: 59.6776008605957\n",
      "checkpoint-output.txt\n",
      "\tmean 13.28077148552516\n",
      "\tp50: 11.213541030883789\n",
      "\tp90: 22.00145721435547\n",
      "\tp99: 30.894336700439442\n",
      "\tp100: 34.92546081542969\n",
      "app_keep_frames-output-failure.txt\n",
      "\tmean 15.994915810462018\n",
      "\tp50: 14.259576797485352\n",
      "\tp90: 24.959230422973633\n",
      "\tp99: 34.14135932922362\n",
      "\tp100: 40.241241455078125\n",
      "app_lose_frames-output-failure.txt\n",
      "\tmean 16.313451648558548\n",
      "\tp50: 14.823675155639648\n",
      "\tp90: 25.659918785095215\n",
      "\tp99: 37.52642869949338\n",
      "\tp100: 76.16186141967773\n",
      "checkpoint-output-failure.txt\n",
      "\tmean 56.57894567428921\n",
      "\tp50: 12.672901153564453\n",
      "\tp90: 27.864837646484375\n",
      "\tp99: 1024.4692325592034\n",
      "\tp100: 1180.0119876861572\n"
     ]
    }
   ],
   "source": [
    "template = \"{}-output{}.txt\"\n",
    "\n",
    "APP_KEEP_FRAMES = template.format(\"app_keep_frames\", \"\")\n",
    "APP_LOSE_FRAMES = template.format(\"app_lose_frames\", \"\")\n",
    "CHECKPOINT = template.format(\"checkpoint\", \"\")\n",
    "\n",
    "APP_KEEP_FRAMES_FAILURE = template.format(\"app_keep_frames\", \"-failure\")\n",
    "APP_LOSE_FRAMES_FAILURE = template.format(\"app_lose_frames\", \"-failure\")\n",
    "CHECKPOINT_FAILURE = template.format(\"checkpoint\", \"-failure\")\n",
    "\n",
    "filenames = [APP_KEEP_FRAMES, APP_LOSE_FRAMES, CHECKPOINT]\n",
    "failure_filenames = [APP_KEEP_FRAMES_FAILURE, APP_LOSE_FRAMES_FAILURE, CHECKPOINT_FAILURE]\n",
    "results = {}\n",
    "for f in filenames:\n",
    "    results[f] = load(f)\n",
    "for f in failure_filenames:\n",
    "    results[f] = load(f)"
   ]
  },
  {
   "cell_type": "code",
   "execution_count": 27,
   "metadata": {},
   "outputs": [
    {
     "name": "stderr",
     "output_type": "stream",
     "text": [
      "/home/swang/anaconda3/envs/ray-wheel/lib/python3.7/site-packages/ipykernel_launcher.py:18: MatplotlibDeprecationWarning: Adding an axes using the same arguments as a previous axes currently reuses the earlier instance.  In a future version, a new instance will always be created and returned.  Meanwhile, this warning can be suppressed, and the future behavior ensured, by passing a unique label to each axes instance.\n",
      "/home/swang/anaconda3/envs/ray-wheel/lib/python3.7/site-packages/ipykernel_launcher.py:18: MatplotlibDeprecationWarning: Adding an axes using the same arguments as a previous axes currently reuses the earlier instance.  In a future version, a new instance will always be created and returned.  Meanwhile, this warning can be suppressed, and the future behavior ensured, by passing a unique label to each axes instance.\n"
     ]
    },
    {
     "data": {
      "text/plain": [
       "<Figure size 432x288 with 0 Axes>"
      ]
     },
     "metadata": {},
     "output_type": "display_data"
    },
    {
     "data": {
      "image/png": "[encoded data removed]",
      "text/plain": [
       "<Figure size 540x216 with 1 Axes>"
      ]
     },
     "metadata": {
      "needs_background": "light"
     },
     "output_type": "display_data"
    }
   ],
   "source": [
    "import matplotlib.pyplot as plt\n",
    "from datetime import datetime\n",
    "\n",
    "SAVE = True\n",
    "FAILURE = False\n",
    "DIR = \"graphs\"\n",
    "\n",
    "font = {'size': 20}\n",
    "plt.rc('font', **font)\n",
    "plt.tight_layout()\n",
    "\n",
    "\n",
    "index = 0\n",
    "plt.figure(figsize=(7.5, 3))\n",
    "\n",
    "def plot(curve, label, linestyle):\n",
    "    global index\n",
    "    color = next(plt.axes()._get_lines.prop_cycler)['color']\n",
    "    n = np.arange(1,len(curve)+1) / np.float(len(curve))\n",
    "    h, = plt.step(np.sort(curve), n, label=label, linewidth=5, linestyle=linestyle, color=color)\n",
    "    plt.axvline(max(curve), linestyle=linestyle, color=color)\n",
    "    index += 1\n",
    "    return h\n",
    "\n",
    "if FAILURE:\n",
    "    curves = [\n",
    "        (results[APP_KEEP_FRAMES_FAILURE], \"App: keep frames, failure\", 'dashed'),\n",
    "        (results[APP_LOSE_FRAMES_FAILURE], \"App: lose frames, failure\", 'dotted'),\n",
    "        (results[CHECKPOINT_FAILURE], \"Checkpoint, failure\", 'solid'),\n",
    "    ]\n",
    "else:\n",
    "    curves = [\n",
    "        (results[APP_KEEP_FRAMES], \"App: keep frames\", 'dashed'),\n",
    "        (results[APP_LOSE_FRAMES], \"App: lose frames\", 'dotted'),\n",
    "        (results[CHECKPOINT], \"Checkpoint\", 'solid'),\n",
    "    ]\n",
    "\n",
    "handles = [None for _ in curves]\n",
    "labels = [None for _ in curves]\n",
    "for i, curve in enumerate(curves):\n",
    "    curve, label, linestyle = curve\n",
    "    curve = [p for p in curve]\n",
    "    handles[i] = plot(curve, label, linestyle)\n",
    "    labels[i] = label\n",
    "plt.xlabel(\"Latency (ms)\")\n",
    "plt.xscale('log')\n",
    "plt.ylabel(\"CDF\")\n",
    "plt.legend()\n",
    "plt.tight_layout()\n",
    "\n",
    "if SAVE:\n",
    "    plt.savefig(os.path.join(DIR, name))\n",
    "else:\n",
    "    plt.show()"
   ]
  },
  {
   "cell_type": "code",
   "execution_count": null,
   "metadata": {},
   "outputs": [],
   "source": []
  },
  {
   "cell_type": "code",
   "execution_count": null,
   "metadata": {},
   "outputs": [],
   "source": []
  }
 ],
 "metadata": {
  "kernelspec": {
   "display_name": "Python 3",
   "language": "python",
   "name": "python3"
  },
  "language_info": {
   "codemirror_mode": {
    "name": "ipython",
    "version": 3
   },
   "file_extension": ".py",
   "mimetype": "text/x-python",
   "name": "python",
   "nbconvert_exporter": "python",
   "pygments_lexer": "ipython3",
   "version": "3.7.6"
  }
 },
 "nbformat": 4,
 "nbformat_minor": 4
}
