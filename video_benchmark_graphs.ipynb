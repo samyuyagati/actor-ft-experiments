{
 "cells": [
  {
   "cell_type": "code",
   "execution_count": 6,
   "metadata": {},
   "outputs": [],
   "source": [
    "# Code borrowed from https://github.com/stephanie-wang/ownership-osdi20/blob/master/data/Video%20stabilization%20latency.ipynb\n",
    "\n",
    "import numpy as np\n",
    "import os\n",
    "\n",
    "def load(filename, dir=None):\n",
    "    results = []\n",
    "    num_over_1000 = 0\n",
    "    max_frame = -1\n",
    "    if dir is not None:\n",
    "        filename = os.path.join(dir, filename)\n",
    "    with open(filename, 'r') as f:\n",
    "        for line in f.readlines():\n",
    "            line = line.strip()\n",
    "            try:\n",
    "                _, frame, latency = line.split(' ')\n",
    "            except:\n",
    "                print(filename, line)\n",
    "            frame = int(frame)\n",
    "            latency = float(latency)\n",
    "            results.append((frame, latency))\n",
    "            if frame > max_frame:\n",
    "                max_frame = frame\n",
    "#     start = 0\n",
    "#     end = max_frame\n",
    "    start = max_frame // 4\n",
    "    end = max_frame - start\n",
    "\n",
    "    results = [latency * 1000 for frame, latency in results if frame > start and frame < end]\n",
    "    print(filename)\n",
    "    print(\"\\tmean\", np.mean(results))\n",
    "    print(\"\\tp50:\", np.percentile(results, 50))\n",
    "    print(\"\\tp90:\", np.percentile(results, 90))\n",
    "    print(\"\\tp99:\", np.percentile(results, 99))\n",
    "    print(\"\\tp100:\", np.max(results))\n",
    "    return results"
   ]
  },
  {
   "cell_type": "code",
   "execution_count": 7,
   "metadata": {},
   "outputs": [
    {
     "name": "stdout",
     "output_type": "stream",
     "text": [
      "video-data/app_keep_frames-output.txt\n",
      "\tmean 10.046655916450016\n",
      "\tp50: 9.994745254516602\n",
      "\tp90: 10.556221008300781\n",
      "\tp99: 11.146430969238278\n",
      "\tp100: 12.585639953613281\n",
      "video-data/app_lose_frames-output.txt\n",
      "\tmean 9.690241670130089\n",
      "\tp50: 9.64808464050293\n",
      "\tp90: 10.197257995605469\n",
      "\tp99: 10.754356384277344\n",
      "\tp100: 11.923789978027344\n",
      "video-data/checkpoint-output.txt\n",
      "\tmean 9.65069368930166\n",
      "\tp50: 9.643793106079102\n",
      "\tp90: 10.121726989746094\n",
      "\tp99: 10.663771629333496\n",
      "\tp100: 11.469602584838867\n",
      "video-data/log-output.txt\n",
      "\tmean 50.041216272972896\n",
      "\tp50: 44.75665092468262\n",
      "\tp90: 67.71140098571777\n",
      "\tp99: 137.02722549438445\n",
      "\tp100: 194.2451000213623\n",
      "video-data/app_keep_frames-output-failure.txt\n",
      "\tmean 9.852498670086813\n",
      "\tp50: 9.8114013671875\n",
      "\tp90: 10.349273681640625\n",
      "\tp99: 10.868411064147944\n",
      "\tp100: 12.726545333862305\n",
      "video-data/app_lose_frames-output-failure.txt\n",
      "\tmean 9.694745076582736\n",
      "\tp50: 9.677648544311523\n",
      "\tp90: 10.110139846801758\n",
      "\tp99: 10.7551884651184\n",
      "\tp100: 12.55941390991211\n",
      "video-data/checkpoint-output-failure.txt\n",
      "\tmean 23.246447776870983\n",
      "\tp50: 9.841680526733398\n",
      "\tp90: 10.614633560180664\n",
      "\tp99: 386.02985858917185\n",
      "\tp100: 471.0345268249512\n",
      "video-data/log-output-failure.txt\n",
      "\tmean 30.730887001573443\n",
      "\tp50: 30.07197380065918\n",
      "\tp90: 32.33985900878906\n",
      "\tp99: 51.20967388153075\n",
      "\tp100: 59.267282485961914\n"
     ]
    }
   ],
   "source": [
    "template = \"{}-output{}.txt\"\n",
    "\n",
    "APP_KEEP_FRAMES = template.format(\"app_keep_frames\", \"\")\n",
    "APP_LOSE_FRAMES = template.format(\"app_lose_frames\", \"\")\n",
    "CHECKPOINT = template.format(\"checkpoint\", \"\")\n",
    "LOG = template.format(\"log\", \"\")\n",
    "\n",
    "APP_KEEP_FRAMES_FAILURE = template.format(\"app_keep_frames\", \"-failure\")\n",
    "APP_LOSE_FRAMES_FAILURE = template.format(\"app_lose_frames\", \"-failure\")\n",
    "CHECKPOINT_FAILURE = template.format(\"checkpoint\", \"-failure\")\n",
    "LOG_FAILURE = template.format(\"log\", \"-failure\")\n",
    "\n",
    "filenames = [APP_KEEP_FRAMES, APP_LOSE_FRAMES, CHECKPOINT, LOG]\n",
    "failure_filenames = [APP_KEEP_FRAMES_FAILURE, APP_LOSE_FRAMES_FAILURE, CHECKPOINT_FAILURE, LOG_FAILURE]\n",
    "results = {}\n",
    "for f in filenames:\n",
    "    results[f] = load(f, dir=\"video-data\")\n",
    "for f in failure_filenames:\n",
    "    results[f] = load(f, dir=\"video-data\")"
   ]
  },
  {
   "cell_type": "code",
   "execution_count": 8,
   "metadata": {},
   "outputs": [
    {
     "name": "stderr",
     "output_type": "stream",
     "text": [
      "/home/swang/anaconda3/envs/ray-wheel/lib/python3.7/site-packages/ipykernel_launcher.py:18: MatplotlibDeprecationWarning: Adding an axes using the same arguments as a previous axes currently reuses the earlier instance.  In a future version, a new instance will always be created and returned.  Meanwhile, this warning can be suppressed, and the future behavior ensured, by passing a unique label to each axes instance.\n",
      "/home/swang/anaconda3/envs/ray-wheel/lib/python3.7/site-packages/ipykernel_launcher.py:18: MatplotlibDeprecationWarning: Adding an axes using the same arguments as a previous axes currently reuses the earlier instance.  In a future version, a new instance will always be created and returned.  Meanwhile, this warning can be suppressed, and the future behavior ensured, by passing a unique label to each axes instance.\n",
      "/home/swang/anaconda3/envs/ray-wheel/lib/python3.7/site-packages/ipykernel_launcher.py:18: MatplotlibDeprecationWarning: Adding an axes using the same arguments as a previous axes currently reuses the earlier instance.  In a future version, a new instance will always be created and returned.  Meanwhile, this warning can be suppressed, and the future behavior ensured, by passing a unique label to each axes instance.\n"
     ]
    },
    {
     "data": {
      "text/plain": [
       "<Figure size 432x288 with 0 Axes>"
      ]
     },
     "metadata": {},
     "output_type": "display_data"
    },
    {
     "data": {
      "image/png": "[encoded data removed]",
      "text/plain": [
       "<Figure size 540x216 with 1 Axes>"
      ]
     },
     "metadata": {
      "needs_background": "light"
     },
     "output_type": "display_data"
    }
   ],
   "source": [
    "import matplotlib.pyplot as plt\n",
    "from datetime import datetime\n",
    "\n",
    "SAVE = True\n",
    "FAILURE = True\n",
    "DIR = \"graphs\"\n",
    "\n",
    "font = {'size': 20}\n",
    "plt.rc('font', **font)\n",
    "plt.tight_layout()\n",
    "\n",
    "\n",
    "index = 0\n",
    "plt.figure(figsize=(7.5, 3))\n",
    "\n",
    "def plot(curve, label, linestyle):\n",
    "    global index\n",
    "    color = next(plt.axes()._get_lines.prop_cycler)['color']\n",
    "    n = np.arange(1,len(curve)+1) / np.float(len(curve))\n",
    "    h, = plt.step(np.sort(curve), n, label=label, linewidth=5, linestyle=linestyle, color=color)\n",
    "    plt.axvline(max(curve), linestyle=linestyle, color=color)\n",
    "    index += 1\n",
    "    return h\n",
    "\n",
    "if FAILURE:\n",
    "    curves = [\n",
    "        (results[APP_KEEP_FRAMES_FAILURE], \"App: keep frames, failure\", 'dashed'),\n",
    "        (results[APP_LOSE_FRAMES_FAILURE], \"App: lose frames, failure\", 'dotted'),\n",
    "        (results[CHECKPOINT_FAILURE], \"Checkpoint, failure\", 'solid'),\n",
    "        (results[LOG_FAILURE], \"Log, failure\", 'solid'),\n",
    "    ]\n",
    "else:\n",
    "    curves = [\n",
    "        (results[APP_KEEP_FRAMES], \"App: keep frames\", 'dashed'),\n",
    "        (results[APP_LOSE_FRAMES], \"App: lose frames\", 'dotted'),\n",
    "        (results[CHECKPOINT], \"Checkpoint\", 'solid'),\n",
    "        (results[LOG], \"Log\", 'solid'),\n",
    "\n",
    "    ]\n",
    "    \n",
    "\n",
    "handles = [None for _ in curves]\n",
    "labels = [None for _ in curves]\n",
    "for i, curve in enumerate(curves):\n",
    "    curve, label, linestyle = curve\n",
    "    curve = [p for p in curve]\n",
    "    handles[i] = plot(curve, label, linestyle)\n",
    "    labels[i] = label\n",
    "plt.xlabel(\"Latency (ms)\")\n",
    "plt.xscale('log')\n",
    "plt.ylabel(\"CDF\")\n",
    "plt.legend()\n",
    "plt.tight_layout()\n",
    "\n",
    "\n",
    "name = \"video-latency{}.pdf\".format(\"-failure\" if FAILURE else \"\")\n",
    "if SAVE:\n",
    "    plt.savefig(os.path.join(DIR, name))\n",
    "else:\n",
    "    plt.show()"
   ]
  },
  {
   "cell_type": "code",
   "execution_count": null,
   "metadata": {},
   "outputs": [],
   "source": []
  },
  {
   "cell_type": "code",
   "execution_count": null,
   "metadata": {},
   "outputs": [],
   "source": []
  }
 ],
 "metadata": {
  "kernelspec": {
   "display_name": "Python 3",
   "language": "python",
   "name": "python3"
  },
  "language_info": {
   "codemirror_mode": {
    "name": "ipython",
    "version": 3
   },
   "file_extension": ".py",
   "mimetype": "text/x-python",
   "name": "python",
   "nbconvert_exporter": "python",
   "pygments_lexer": "ipython3",
   "version": "3.7.6"
  }
 },
 "nbformat": 4,
 "nbformat_minor": 4
}
